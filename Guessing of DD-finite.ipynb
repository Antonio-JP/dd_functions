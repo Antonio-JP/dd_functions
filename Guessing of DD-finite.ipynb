{
 "cells": [
  {
   "cell_type": "markdown",
   "id": "44a7aaba",
   "metadata": {},
   "source": [
    "# Trying to guess DD-finite equations"
   ]
  },
  {
   "cell_type": "code",
   "execution_count": 51,
   "id": "eec2486f",
   "metadata": {},
   "outputs": [],
   "source": [
    "from ore_algebra import OreAlgebra, guess\n",
    "from ajpastor.dd_functions import *\n",
    "\n",
    "OA.<Dx> = OreAlgebra(QQ[x])\n",
    "def guess_DDFinite(data, order_bound=5, ore_ring=OA):\n",
    "    r'''\n",
    "        Method to guess a DD-finite equation from some data\n",
    "        \n",
    "        This method tries to compute a differential equation whose coefficients are D-finite \n",
    "        functions (i.e., the annihilator for a DD-finite function) starting with the sequence \n",
    "        of the function itself.\n",
    "        \n",
    "        The output of this method is the actual DD-finite function that have ``data`` as \n",
    "        first elements in its sequence, or a :class:`ValueError` if no relation was found.\n",
    "        \n",
    "        INPUT:\n",
    "          - ``data``: any input (list, data or polynomial) that can be casted into a polynomial\n",
    "            using the base ring of ``ore_ring``.\n",
    "          - ``order_bound``: a limit for the search of a DD-finite differential equation. We start\n",
    "            by looking for equations of order 2 and we increase up to this value until we find something.\n",
    "            ``ore_ring``: the :class:`OreAlgebra` ring that will be used for the guessing.\n",
    "            \n",
    "        OUTPUT: \n",
    "        \n",
    "        A :class:`DDFunction` representing a DD-finite function or :class:`ValueError` if no relations were found.\n",
    "    '''\n",
    "    R = ore_ring.base()\n",
    "    t = R(data)\n",
    "    data = data if isinstance(data, (tuple, list)) else t.list()\n",
    "    try:\n",
    "        return DFinite.element(guess(t.list(), OA), init=t.list(), sequence=True)\n",
    "    except ValueError:\n",
    "        pass\n",
    "    prec = len(data)-1\n",
    "    appr_prec = max(prec//2, prec-10)\n",
    "    order = 2\n",
    "    T = [t]\n",
    "    while order < order_bound:\n",
    "        T.append(T[-1].derivative())\n",
    "        M = Matrix(order, 1, T)\n",
    "        B = M.minimal_approximant_basis(appr_prec)\n",
    "        v = [el.list()+(appr_prec-el.degree()-1)*[0] for el in B.hermite_form()[0]]\n",
    "        try:\n",
    "            ops = [guess(el, ore_ring) for el in v]\n",
    "        except ValueError:\n",
    "            order += 1\n",
    "            continue\n",
    "        coeffs = [DFinite.element(ops[i],init=v[i],sequence=True) for i in range(len(ops))]\n",
    "        return DDFinite.element(coeffs, init=data,sequence=True)\n",
    "    raise ValueError(f\"No relations found up to order {order_bound}\")"
   ]
  },
  {
   "cell_type": "markdown",
   "id": "0d7cbc18",
   "metadata": {},
   "source": [
    "#### Guessing the tangent"
   ]
  },
  {
   "cell_type": "code",
   "execution_count": 52,
   "id": "0a28e6d2",
   "metadata": {},
   "outputs": [
    {
     "name": "stdout",
     "output_type": "stream",
     "text": [
      "We are guessing the equation for tan(x)...\n",
      "Time for guessing: CPU times: user 69 ms, sys: 0 ns, total: 69 ms\n",
      "Wall time: 66.9 ms\n",
      "Time for checking: CPU times: user 347 ms, sys: 0 ns, total: 347 ms\n",
      "Wall time: 347 ms\n",
      "Is it correct? --> True\n"
     ]
    }
   ],
   "source": [
    "real = Tan(x)\n",
    "print(f\"We are guessing the equation for {repr(real)}...\")\n",
    "print(\"Time for guessing: \", end=\"\")\n",
    "%time f_tan = guess_DDFinite(real.taylor(50))\n",
    "print(\"Time for checking: \", end=\"\")\n",
    "%time correct = (f_tan == real)\n",
    "print(f\"Is it correct? --> {correct}\")"
   ]
  },
  {
   "cell_type": "markdown",
   "id": "f5e7e012",
   "metadata": {},
   "source": [
    "#### Guessing some exponentials"
   ]
  },
  {
   "cell_type": "code",
   "execution_count": 53,
   "id": "60a743d2",
   "metadata": {},
   "outputs": [
    {
     "name": "stdout",
     "output_type": "stream",
     "text": [
      "We are guessing the equation for exp(exp(x)-1)...\n",
      "Time for guessing: CPU times: user 54.5 ms, sys: 0 ns, total: 54.5 ms\n",
      "Wall time: 53 ms\n",
      "Time for checking: CPU times: user 80.8 ms, sys: 0 ns, total: 80.8 ms\n",
      "Wall time: 80.4 ms\n",
      "Is it correct? --> True\n"
     ]
    }
   ],
   "source": [
    "real = Exp(Exp(x)-1)\n",
    "print(f\"We are guessing the equation for {repr(real)}...\")\n",
    "print(\"Time for guessing: \", end=\"\")\n",
    "%time f_exp = guess_DDFinite(real.taylor(50))\n",
    "print(\"Time for checking: \", end=\"\")\n",
    "%time correct = (f_exp == real)\n",
    "print(f\"Is it correct? --> {correct}\")"
   ]
  },
  {
   "cell_type": "code",
   "execution_count": 54,
   "id": "5ad577a6",
   "metadata": {},
   "outputs": [
    {
     "name": "stdout",
     "output_type": "stream",
     "text": [
      "We are guessing the equation for exp(sin(x))...\n",
      "Time for guessing: "
     ]
    },
    {
     "ename": "ValueError",
     "evalue": "No relations found up to order 5",
     "output_type": "error",
     "traceback": [
      "\u001b[0;31m---------------------------------------------------------------------------\u001b[0m",
      "\u001b[0;31mValueError\u001b[0m                                Traceback (most recent call last)",
      "\u001b[0;32m<timed exec>\u001b[0m in \u001b[0;36m<module>\u001b[0;34m\u001b[0m\n",
      "\u001b[0;32m/tmp/ipykernel_1730/347220647.py\u001b[0m in \u001b[0;36mguess_DDFinite\u001b[0;34m(data, order_bound, ore_ring)\u001b[0m\n\u001b[1;32m     48\u001b[0m         \u001b[0mcoeffs\u001b[0m \u001b[0;34m=\u001b[0m \u001b[0;34m[\u001b[0m\u001b[0mDFinite\u001b[0m\u001b[0;34m.\u001b[0m\u001b[0melement\u001b[0m\u001b[0;34m(\u001b[0m\u001b[0mops\u001b[0m\u001b[0;34m[\u001b[0m\u001b[0mi\u001b[0m\u001b[0;34m]\u001b[0m\u001b[0;34m,\u001b[0m\u001b[0minit\u001b[0m\u001b[0;34m=\u001b[0m\u001b[0mv\u001b[0m\u001b[0;34m[\u001b[0m\u001b[0mi\u001b[0m\u001b[0;34m]\u001b[0m\u001b[0;34m,\u001b[0m\u001b[0msequence\u001b[0m\u001b[0;34m=\u001b[0m\u001b[0;32mTrue\u001b[0m\u001b[0;34m)\u001b[0m \u001b[0;32mfor\u001b[0m \u001b[0mi\u001b[0m \u001b[0;32min\u001b[0m \u001b[0mrange\u001b[0m\u001b[0;34m(\u001b[0m\u001b[0mlen\u001b[0m\u001b[0;34m(\u001b[0m\u001b[0mops\u001b[0m\u001b[0;34m)\u001b[0m\u001b[0;34m)\u001b[0m\u001b[0;34m]\u001b[0m\u001b[0;34m\u001b[0m\u001b[0;34m\u001b[0m\u001b[0m\n\u001b[1;32m     49\u001b[0m         \u001b[0;32mreturn\u001b[0m \u001b[0mDDFinite\u001b[0m\u001b[0;34m.\u001b[0m\u001b[0melement\u001b[0m\u001b[0;34m(\u001b[0m\u001b[0mcoeffs\u001b[0m\u001b[0;34m,\u001b[0m \u001b[0minit\u001b[0m\u001b[0;34m=\u001b[0m\u001b[0mdata\u001b[0m\u001b[0;34m,\u001b[0m\u001b[0msequence\u001b[0m\u001b[0;34m=\u001b[0m\u001b[0;32mTrue\u001b[0m\u001b[0;34m)\u001b[0m\u001b[0;34m\u001b[0m\u001b[0;34m\u001b[0m\u001b[0m\n\u001b[0;32m---> 50\u001b[0;31m     \u001b[0;32mraise\u001b[0m \u001b[0mValueError\u001b[0m\u001b[0;34m(\u001b[0m\u001b[0;34mf\"No relations found up to order {order_bound}\"\u001b[0m\u001b[0;34m)\u001b[0m\u001b[0;34m\u001b[0m\u001b[0;34m\u001b[0m\u001b[0m\n\u001b[0m",
      "\u001b[0;31mValueError\u001b[0m: No relations found up to order 5"
     ]
    },
    {
     "name": "stdout",
     "output_type": "stream",
     "text": [
      "Time for checking: "
     ]
    },
    {
     "ename": "NameError",
     "evalue": "name 'f_sin' is not defined",
     "output_type": "error",
     "traceback": [
      "\u001b[0;31m---------------------------------------------------------------------------\u001b[0m",
      "\u001b[0;31mNameError\u001b[0m                                 Traceback (most recent call last)",
      "\u001b[0;32m<timed exec>\u001b[0m in \u001b[0;36m<module>\u001b[0;34m\u001b[0m\n",
      "\u001b[0;31mNameError\u001b[0m: name 'f_sin' is not defined"
     ]
    },
    {
     "name": "stdout",
     "output_type": "stream",
     "text": [
      "Is it correct? --> True\n"
     ]
    }
   ],
   "source": [
    "real = Exp(Sin(x))\n",
    "print(f\"We are guessing the equation for {repr(real)}...\")\n",
    "print(\"Time for guessing: \", end=\"\")\n",
    "%time f_sin = guess_DDFinite(real.taylor(50))\n",
    "print(\"Time for checking: \", end=\"\")\n",
    "%time correct = (f_sin == real)\n",
    "print(f\"Is it correct? --> {correct}\")"
   ]
  },
  {
   "cell_type": "code",
   "execution_count": 55,
   "id": "c4793256",
   "metadata": {},
   "outputs": [
    {
     "name": "stdout",
     "output_type": "stream",
     "text": [
      "We are guessing the equation for exp(cos(x)-1)...\n",
      "Time for guessing: "
     ]
    },
    {
     "ename": "ValueError",
     "evalue": "No relations found up to order 5",
     "output_type": "error",
     "traceback": [
      "\u001b[0;31m---------------------------------------------------------------------------\u001b[0m",
      "\u001b[0;31mValueError\u001b[0m                                Traceback (most recent call last)",
      "\u001b[0;32m<timed exec>\u001b[0m in \u001b[0;36m<module>\u001b[0;34m\u001b[0m\n",
      "\u001b[0;32m/tmp/ipykernel_1730/347220647.py\u001b[0m in \u001b[0;36mguess_DDFinite\u001b[0;34m(data, order_bound, ore_ring)\u001b[0m\n\u001b[1;32m     48\u001b[0m         \u001b[0mcoeffs\u001b[0m \u001b[0;34m=\u001b[0m \u001b[0;34m[\u001b[0m\u001b[0mDFinite\u001b[0m\u001b[0;34m.\u001b[0m\u001b[0melement\u001b[0m\u001b[0;34m(\u001b[0m\u001b[0mops\u001b[0m\u001b[0;34m[\u001b[0m\u001b[0mi\u001b[0m\u001b[0;34m]\u001b[0m\u001b[0;34m,\u001b[0m\u001b[0minit\u001b[0m\u001b[0;34m=\u001b[0m\u001b[0mv\u001b[0m\u001b[0;34m[\u001b[0m\u001b[0mi\u001b[0m\u001b[0;34m]\u001b[0m\u001b[0;34m,\u001b[0m\u001b[0msequence\u001b[0m\u001b[0;34m=\u001b[0m\u001b[0;32mTrue\u001b[0m\u001b[0;34m)\u001b[0m \u001b[0;32mfor\u001b[0m \u001b[0mi\u001b[0m \u001b[0;32min\u001b[0m \u001b[0mrange\u001b[0m\u001b[0;34m(\u001b[0m\u001b[0mlen\u001b[0m\u001b[0;34m(\u001b[0m\u001b[0mops\u001b[0m\u001b[0;34m)\u001b[0m\u001b[0;34m)\u001b[0m\u001b[0;34m]\u001b[0m\u001b[0;34m\u001b[0m\u001b[0;34m\u001b[0m\u001b[0m\n\u001b[1;32m     49\u001b[0m         \u001b[0;32mreturn\u001b[0m \u001b[0mDDFinite\u001b[0m\u001b[0;34m.\u001b[0m\u001b[0melement\u001b[0m\u001b[0;34m(\u001b[0m\u001b[0mcoeffs\u001b[0m\u001b[0;34m,\u001b[0m \u001b[0minit\u001b[0m\u001b[0;34m=\u001b[0m\u001b[0mdata\u001b[0m\u001b[0;34m,\u001b[0m\u001b[0msequence\u001b[0m\u001b[0;34m=\u001b[0m\u001b[0;32mTrue\u001b[0m\u001b[0;34m)\u001b[0m\u001b[0;34m\u001b[0m\u001b[0;34m\u001b[0m\u001b[0m\n\u001b[0;32m---> 50\u001b[0;31m     \u001b[0;32mraise\u001b[0m \u001b[0mValueError\u001b[0m\u001b[0;34m(\u001b[0m\u001b[0;34mf\"No relations found up to order {order_bound}\"\u001b[0m\u001b[0;34m)\u001b[0m\u001b[0;34m\u001b[0m\u001b[0;34m\u001b[0m\u001b[0m\n\u001b[0m",
      "\u001b[0;31mValueError\u001b[0m: No relations found up to order 5"
     ]
    },
    {
     "name": "stdout",
     "output_type": "stream",
     "text": [
      "Time for checking: "
     ]
    },
    {
     "ename": "NameError",
     "evalue": "name 'f_cos' is not defined",
     "output_type": "error",
     "traceback": [
      "\u001b[0;31m---------------------------------------------------------------------------\u001b[0m",
      "\u001b[0;31mNameError\u001b[0m                                 Traceback (most recent call last)",
      "\u001b[0;32m<timed exec>\u001b[0m in \u001b[0;36m<module>\u001b[0;34m\u001b[0m\n",
      "\u001b[0;31mNameError\u001b[0m: name 'f_cos' is not defined"
     ]
    },
    {
     "name": "stdout",
     "output_type": "stream",
     "text": [
      "Is it correct? --> True\n"
     ]
    }
   ],
   "source": [
    "real = Exp(Cos(x)-1)\n",
    "print(f\"We are guessing the equation for {repr(real)}...\")\n",
    "print(\"Time for guessing: \", end=\"\")\n",
    "%time f_cos = guess_DDFinite(real.taylor(50))\n",
    "print(\"Time for checking: \", end=\"\")\n",
    "%time correct = (f_cos == real)\n",
    "print(f\"Is it correct? --> {correct}\")"
   ]
  },
  {
   "cell_type": "markdown",
   "id": "e6cf2668",
   "metadata": {},
   "source": [
    "What do $e^{e^x -1}$ and $\\tan(x)$ have in common? If we look to the equation found for the guessing, we may obtain the answer:"
   ]
  },
  {
   "cell_type": "code",
   "execution_count": 58,
   "id": "246599bc",
   "metadata": {},
   "outputs": [
    {
     "data": {
      "text/html": [
       "<html>\\(\\displaystyle \\left\\{\\begin{array}{c}\n",
       "g_{1}(x)f'(x)+ f(x) = 0,\\\\\n",
       "where\\\\\n",
       "g_{1}:\\left\\{\\begin{array}{c}\n",
       "g_{1}'(x)+ g_{1}(x) = 0,\\\\\n",
       "\\hdashline\n",
       "g_{1}(0) = -1, g_{1}'(0) = 1\\end{array}\\right.\\\\\n",
       "\\hdashline\n",
       "f(0) = 1, f'(0) = 1\\end{array}\\right.\\)</html>"
      ],
      "text/latex": [
       "$\\displaystyle \\left\\{\\begin{array}{c}\n",
       "g_{1}(x)f'(x)+ f(x) = 0,\\\\\n",
       "where\\\\\n",
       "g_{1}:\\left\\{\\begin{array}{c}\n",
       "g_{1}'(x)+ g_{1}(x) = 0,\\\\\n",
       "\\hdashline\n",
       "g_{1}(0) = -1, g_{1}'(0) = 1\\end{array}\\right.\\\\\n",
       "\\hdashline\n",
       "f(0) = 1, f'(0) = 1\\end{array}\\right.$"
      ],
      "text/plain": [
       "(1:1:6)DD-Function in (DD-Ring over (DD-Ring over (Univariate Polynomial Ring in x over Rational Field)))"
      ]
     },
     "metadata": {},
     "output_type": "display_data"
    }
   ],
   "source": [
    "show(f_exp)"
   ]
  },
  {
   "cell_type": "code",
   "execution_count": 59,
   "id": "58100162",
   "metadata": {},
   "outputs": [
    {
     "data": {
      "text/html": [
       "<html>\\(\\displaystyle \\left\\{\\begin{array}{c}\n",
       "g_{1}(x)f'(x)+ f(x) = 0,\\\\\n",
       "where\\\\\n",
       "g_{1}:\\left\\{\\begin{array}{c}\n",
       "g_{1}''(x)+ \\left( 4 \\right) g_{1}(x) = 0,\\\\\n",
       "\\hdashline\n",
       "g_{1}(0) = 0, g_{1}'(0) = -1, g_{1}''(0) = 0\\end{array}\\right.\\\\\n",
       "\\hdashline\n",
       "f(0) = 0, f'(0) = 1\\end{array}\\right.\\)</html>"
      ],
      "text/latex": [
       "$\\displaystyle \\left\\{\\begin{array}{c}\n",
       "g_{1}(x)f'(x)+ f(x) = 0,\\\\\n",
       "where\\\\\n",
       "g_{1}:\\left\\{\\begin{array}{c}\n",
       "g_{1}''(x)+ \\left( 4 \\right) g_{1}(x) = 0,\\\\\n",
       "\\hdashline\n",
       "g_{1}(0) = 0, g_{1}'(0) = -1, g_{1}''(0) = 0\\end{array}\\right.\\\\\n",
       "\\hdashline\n",
       "f(0) = 0, f'(0) = 1\\end{array}\\right.$"
      ],
      "text/plain": [
       "(1:1:7)DD-Function in (DD-Ring over (DD-Ring over (Univariate Polynomial Ring in x over Rational Field)))"
      ]
     },
     "metadata": {},
     "output_type": "display_data"
    }
   ],
   "source": [
    "show(f_tan)"
   ]
  },
  {
   "cell_type": "markdown",
   "id": "ab549973",
   "metadata": {},
   "source": [
    "In both cases, the equation has a $1$ in the linear term (the one corresponding to $f(x)$). This makes sense with the guessing rouine, since we are guessing using the first row of the Hermite Normal form, which will, generally, have a 1 in the first column. This is the coefficient that we will associate with the ocnstant term.\n",
    "\n",
    "If we compute the Hermite Normal fom switching the columns, we can obtain other guesses where the corresponding coefficient for the first column will be (probably) 1."
   ]
  },
  {
   "cell_type": "markdown",
   "id": "8918f92a",
   "metadata": {},
   "source": [
    "### Current limitations\n",
    "\n",
    "There are two main liminations to this algorithm so far:\n",
    "\n",
    "* There is a coefficient that seems we will always get a 1. This meas we need either another approach or more information (for example on the leading coefficient of the equation).\n",
    "* We do not reuse the computations of the Hermite Normal form from one order to the next. I have the impression (or feeling) that the operations should be carry over, since we get somehow a triangular matrix when computing the Hermite Normal Form. These new rows should be possible to obtain from the previous case."
   ]
  },
  {
   "cell_type": "code",
   "execution_count": null,
   "id": "171b6699",
   "metadata": {},
   "outputs": [],
   "source": []
  },
  {
   "cell_type": "code",
   "execution_count": null,
   "id": "91fdd789",
   "metadata": {},
   "outputs": [],
   "source": []
  }
 ],
 "metadata": {
  "kernelspec": {
   "display_name": "SageMath 9.6",
   "language": "sage",
   "name": "sagemath"
  },
  "language_info": {
   "codemirror_mode": {
    "name": "ipython",
    "version": 3
   },
   "file_extension": ".py",
   "mimetype": "text/x-python",
   "name": "python",
   "nbconvert_exporter": "python",
   "pygments_lexer": "ipython3",
   "version": "3.8.10"
  }
 },
 "nbformat": 4,
 "nbformat_minor": 5
}
